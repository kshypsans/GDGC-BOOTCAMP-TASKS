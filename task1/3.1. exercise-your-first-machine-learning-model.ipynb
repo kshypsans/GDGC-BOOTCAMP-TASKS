{
 "cells": [
  {
   "cell_type": "markdown",
   "id": "0c4b9692",
   "metadata": {
    "papermill": {
     "duration": 0.004923,
     "end_time": "2025-02-16T08:23:32.320834",
     "exception": false,
     "start_time": "2025-02-16T08:23:32.315911",
     "status": "completed"
    },
    "tags": []
   },
   "source": [
    "**This notebook is an exercise in the [Introduction to Machine Learning](https://www.kaggle.com/learn/intro-to-machine-learning) course.  You can reference the tutorial at [this link](https://www.kaggle.com/dansbecker/your-first-machine-learning-model).**\n",
    "\n",
    "---\n"
   ]
  },
  {
   "cell_type": "markdown",
   "id": "dbb25df5",
   "metadata": {
    "papermill": {
     "duration": 0.003923,
     "end_time": "2025-02-16T08:23:32.329480",
     "exception": false,
     "start_time": "2025-02-16T08:23:32.325557",
     "status": "completed"
    },
    "tags": []
   },
   "source": [
    "## Recap\n",
    "So far, you have loaded your data and reviewed it with the following code. Run this cell to set up your coding environment where the previous step left off."
   ]
  },
  {
   "cell_type": "code",
   "execution_count": 1,
   "id": "b1bc2bfa",
   "metadata": {
    "execution": {
     "iopub.execute_input": "2025-02-16T08:23:32.339414Z",
     "iopub.status.busy": "2025-02-16T08:23:32.339021Z",
     "iopub.status.idle": "2025-02-16T08:23:35.051560Z",
     "shell.execute_reply": "2025-02-16T08:23:35.050144Z"
    },
    "papermill": {
     "duration": 2.719739,
     "end_time": "2025-02-16T08:23:35.053547",
     "exception": false,
     "start_time": "2025-02-16T08:23:32.333808",
     "status": "completed"
    },
    "tags": []
   },
   "outputs": [
    {
     "name": "stdout",
     "output_type": "stream",
     "text": [
      "Setup Complete\n"
     ]
    }
   ],
   "source": [
    "# Code you have previously used to load data\n",
    "import pandas as pd\n",
    "\n",
    "# Path of the file to read\n",
    "iowa_file_path = '../input/home-data-for-ml-course/train.csv'\n",
    "\n",
    "home_data = pd.read_csv(iowa_file_path)\n",
    "\n",
    "# Set up code checking\n",
    "from learntools.core import binder\n",
    "binder.bind(globals())\n",
    "from learntools.machine_learning.ex3 import *\n",
    "\n",
    "print(\"Setup Complete\")"
   ]
  },
  {
   "cell_type": "markdown",
   "id": "5eca8375",
   "metadata": {
    "papermill": {
     "duration": 0.004173,
     "end_time": "2025-02-16T08:23:35.062180",
     "exception": false,
     "start_time": "2025-02-16T08:23:35.058007",
     "status": "completed"
    },
    "tags": []
   },
   "source": [
    "# Exercises\n",
    "\n",
    "## Step 1: Specify Prediction Target\n",
    "Select the target variable, which corresponds to the sales price. Save this to a new variable called `y`. You'll need to print a list of the columns to find the name of the column you need.\n"
   ]
  },
  {
   "cell_type": "code",
   "execution_count": 2,
   "id": "f689d8bf",
   "metadata": {
    "execution": {
     "iopub.execute_input": "2025-02-16T08:23:35.072206Z",
     "iopub.status.busy": "2025-02-16T08:23:35.071603Z",
     "iopub.status.idle": "2025-02-16T08:23:35.078036Z",
     "shell.execute_reply": "2025-02-16T08:23:35.076759Z"
    },
    "papermill": {
     "duration": 0.013353,
     "end_time": "2025-02-16T08:23:35.079745",
     "exception": false,
     "start_time": "2025-02-16T08:23:35.066392",
     "status": "completed"
    },
    "tags": []
   },
   "outputs": [
    {
     "name": "stdout",
     "output_type": "stream",
     "text": [
      "Index(['Id', 'MSSubClass', 'MSZoning', 'LotFrontage', 'LotArea', 'Street',\n",
      "       'Alley', 'LotShape', 'LandContour', 'Utilities', 'LotConfig',\n",
      "       'LandSlope', 'Neighborhood', 'Condition1', 'Condition2', 'BldgType',\n",
      "       'HouseStyle', 'OverallQual', 'OverallCond', 'YearBuilt', 'YearRemodAdd',\n",
      "       'RoofStyle', 'RoofMatl', 'Exterior1st', 'Exterior2nd', 'MasVnrType',\n",
      "       'MasVnrArea', 'ExterQual', 'ExterCond', 'Foundation', 'BsmtQual',\n",
      "       'BsmtCond', 'BsmtExposure', 'BsmtFinType1', 'BsmtFinSF1',\n",
      "       'BsmtFinType2', 'BsmtFinSF2', 'BsmtUnfSF', 'TotalBsmtSF', 'Heating',\n",
      "       'HeatingQC', 'CentralAir', 'Electrical', '1stFlrSF', '2ndFlrSF',\n",
      "       'LowQualFinSF', 'GrLivArea', 'BsmtFullBath', 'BsmtHalfBath', 'FullBath',\n",
      "       'HalfBath', 'BedroomAbvGr', 'KitchenAbvGr', 'KitchenQual',\n",
      "       'TotRmsAbvGrd', 'Functional', 'Fireplaces', 'FireplaceQu', 'GarageType',\n",
      "       'GarageYrBlt', 'GarageFinish', 'GarageCars', 'GarageArea', 'GarageQual',\n",
      "       'GarageCond', 'PavedDrive', 'WoodDeckSF', 'OpenPorchSF',\n",
      "       'EnclosedPorch', '3SsnPorch', 'ScreenPorch', 'PoolArea', 'PoolQC',\n",
      "       'Fence', 'MiscFeature', 'MiscVal', 'MoSold', 'YrSold', 'SaleType',\n",
      "       'SaleCondition', 'SalePrice'],\n",
      "      dtype='object')\n"
     ]
    }
   ],
   "source": [
    "# print the list of columns in the dataset to find the name of the prediction target\n",
    "print(home_data.columns)"
   ]
  },
  {
   "cell_type": "code",
   "execution_count": 3,
   "id": "bc628916",
   "metadata": {
    "execution": {
     "iopub.execute_input": "2025-02-16T08:23:35.090144Z",
     "iopub.status.busy": "2025-02-16T08:23:35.089681Z",
     "iopub.status.idle": "2025-02-16T08:23:35.104227Z",
     "shell.execute_reply": "2025-02-16T08:23:35.103182Z"
    },
    "papermill": {
     "duration": 0.021754,
     "end_time": "2025-02-16T08:23:35.106194",
     "exception": false,
     "start_time": "2025-02-16T08:23:35.084440",
     "status": "completed"
    },
    "tags": []
   },
   "outputs": [
    {
     "data": {
      "application/javascript": [
       "parent.postMessage({\"jupyterEvent\": \"custom.exercise_interaction\", \"data\": {\"outcomeType\": 1, \"valueTowardsCompletion\": 0.25, \"interactionType\": 1, \"questionType\": 2, \"questionId\": \"1_SetTarget\", \"learnToolsVersion\": \"0.3.4\", \"failureMessage\": \"\", \"exceptionClass\": \"\", \"trace\": \"\"}}, \"*\")"
      ],
      "text/plain": [
       "<IPython.core.display.Javascript object>"
      ]
     },
     "metadata": {},
     "output_type": "display_data"
    },
    {
     "data": {
      "text/markdown": [
       "<span style=\"color:#33cc33\">Correct</span>"
      ],
      "text/plain": [
       "Correct"
      ]
     },
     "metadata": {},
     "output_type": "display_data"
    }
   ],
   "source": [
    "y = home_data['SalePrice']\n",
    "\n",
    "# Check your answer\n",
    "step_1.check()"
   ]
  },
  {
   "cell_type": "code",
   "execution_count": 4,
   "id": "d72bc6ad",
   "metadata": {
    "collapsed": true,
    "execution": {
     "iopub.execute_input": "2025-02-16T08:23:35.117219Z",
     "iopub.status.busy": "2025-02-16T08:23:35.116782Z",
     "iopub.status.idle": "2025-02-16T08:23:35.120896Z",
     "shell.execute_reply": "2025-02-16T08:23:35.119807Z"
    },
    "jupyter": {
     "outputs_hidden": true
    },
    "papermill": {
     "duration": 0.011575,
     "end_time": "2025-02-16T08:23:35.122651",
     "exception": false,
     "start_time": "2025-02-16T08:23:35.111076",
     "status": "completed"
    },
    "tags": []
   },
   "outputs": [],
   "source": [
    "# The lines below will show you a hint or the solution.\n",
    "# step_1.hint() \n",
    "# step_1.solution()"
   ]
  },
  {
   "cell_type": "markdown",
   "id": "8f04441a",
   "metadata": {
    "papermill": {
     "duration": 0.004595,
     "end_time": "2025-02-16T08:23:35.132380",
     "exception": false,
     "start_time": "2025-02-16T08:23:35.127785",
     "status": "completed"
    },
    "tags": []
   },
   "source": [
    "## Step 2: Create X\n",
    "Now you will create a DataFrame called `X` holding the predictive features.\n",
    "\n",
    "Since you want only some columns from the original data, you'll first create a list with the names of the columns you want in `X`.\n",
    "\n",
    "You'll use just the following columns in the list (you can copy and paste the whole list to save some typing, though you'll still need to add quotes):\n",
    "  * LotArea\n",
    "  * YearBuilt\n",
    "  * 1stFlrSF\n",
    "  * 2ndFlrSF\n",
    "  * FullBath\n",
    "  * BedroomAbvGr\n",
    "  * TotRmsAbvGrd\n",
    "\n",
    "After you've created that list of features, use it to create the DataFrame that you'll use to fit the model."
   ]
  },
  {
   "cell_type": "code",
   "execution_count": 5,
   "id": "1110882f",
   "metadata": {
    "execution": {
     "iopub.execute_input": "2025-02-16T08:23:35.143049Z",
     "iopub.status.busy": "2025-02-16T08:23:35.142662Z",
     "iopub.status.idle": "2025-02-16T08:23:35.154348Z",
     "shell.execute_reply": "2025-02-16T08:23:35.153199Z"
    },
    "papermill": {
     "duration": 0.018904,
     "end_time": "2025-02-16T08:23:35.156018",
     "exception": false,
     "start_time": "2025-02-16T08:23:35.137114",
     "status": "completed"
    },
    "tags": []
   },
   "outputs": [
    {
     "data": {
      "application/javascript": [
       "parent.postMessage({\"jupyterEvent\": \"custom.exercise_interaction\", \"data\": {\"outcomeType\": 1, \"valueTowardsCompletion\": 0.25, \"interactionType\": 1, \"questionType\": 2, \"questionId\": \"2_SelectPredictionData\", \"learnToolsVersion\": \"0.3.4\", \"failureMessage\": \"\", \"exceptionClass\": \"\", \"trace\": \"\"}}, \"*\")"
      ],
      "text/plain": [
       "<IPython.core.display.Javascript object>"
      ]
     },
     "metadata": {},
     "output_type": "display_data"
    },
    {
     "data": {
      "text/markdown": [
       "<span style=\"color:#33cc33\">Correct</span>"
      ],
      "text/plain": [
       "Correct"
      ]
     },
     "metadata": {},
     "output_type": "display_data"
    }
   ],
   "source": [
    "# Create the list of features below\n",
    "feature_names = ['LotArea', 'YearBuilt', '1stFlrSF', '2ndFlrSF', 'FullBath', 'BedroomAbvGr', 'TotRmsAbvGrd']\n",
    "\n",
    "# Select data corresponding to features in feature_names\n",
    "X = home_data[feature_names]\n",
    "\n",
    "# Check your answer\n",
    "step_2.check()"
   ]
  },
  {
   "cell_type": "code",
   "execution_count": 6,
   "id": "fc4d6f38",
   "metadata": {
    "collapsed": true,
    "execution": {
     "iopub.execute_input": "2025-02-16T08:23:35.166882Z",
     "iopub.status.busy": "2025-02-16T08:23:35.166509Z",
     "iopub.status.idle": "2025-02-16T08:23:35.170834Z",
     "shell.execute_reply": "2025-02-16T08:23:35.169502Z"
    },
    "jupyter": {
     "outputs_hidden": true
    },
    "papermill": {
     "duration": 0.011749,
     "end_time": "2025-02-16T08:23:35.172629",
     "exception": false,
     "start_time": "2025-02-16T08:23:35.160880",
     "status": "completed"
    },
    "tags": []
   },
   "outputs": [],
   "source": [
    "# step_2.hint()\n",
    "# step_2.solution()"
   ]
  },
  {
   "cell_type": "markdown",
   "id": "c87d616a",
   "metadata": {
    "papermill": {
     "duration": 0.00463,
     "end_time": "2025-02-16T08:23:35.182391",
     "exception": false,
     "start_time": "2025-02-16T08:23:35.177761",
     "status": "completed"
    },
    "tags": []
   },
   "source": [
    "## Review Data\n",
    "Before building a model, take a quick look at **X** to verify it looks sensible"
   ]
  },
  {
   "cell_type": "code",
   "execution_count": 7,
   "id": "6f44fbff",
   "metadata": {
    "collapsed": true,
    "execution": {
     "iopub.execute_input": "2025-02-16T08:23:35.193461Z",
     "iopub.status.busy": "2025-02-16T08:23:35.193079Z",
     "iopub.status.idle": "2025-02-16T08:23:35.197138Z",
     "shell.execute_reply": "2025-02-16T08:23:35.196058Z"
    },
    "jupyter": {
     "outputs_hidden": true
    },
    "papermill": {
     "duration": 0.011508,
     "end_time": "2025-02-16T08:23:35.198783",
     "exception": false,
     "start_time": "2025-02-16T08:23:35.187275",
     "status": "completed"
    },
    "tags": []
   },
   "outputs": [],
   "source": [
    "# Review data\n",
    "# print description or statistics from X\n",
    "#print(_)\n",
    "\n",
    "# print the top few lines\n",
    "#print(_)"
   ]
  },
  {
   "cell_type": "markdown",
   "id": "778218f5",
   "metadata": {
    "papermill": {
     "duration": 0.004628,
     "end_time": "2025-02-16T08:23:35.208702",
     "exception": false,
     "start_time": "2025-02-16T08:23:35.204074",
     "status": "completed"
    },
    "tags": []
   },
   "source": [
    "## Step 3: Specify and Fit Model\n",
    "Create a `DecisionTreeRegressor` and save it iowa_model. Ensure you've done the relevant import from sklearn to run this command.\n",
    "\n",
    "Then fit the model you just created using the data in `X` and `y` that you saved above."
   ]
  },
  {
   "cell_type": "code",
   "execution_count": 8,
   "id": "bb31e05c",
   "metadata": {
    "execution": {
     "iopub.execute_input": "2025-02-16T08:23:35.219756Z",
     "iopub.status.busy": "2025-02-16T08:23:35.219352Z",
     "iopub.status.idle": "2025-02-16T08:23:35.240763Z",
     "shell.execute_reply": "2025-02-16T08:23:35.239717Z"
    },
    "papermill": {
     "duration": 0.029023,
     "end_time": "2025-02-16T08:23:35.242631",
     "exception": false,
     "start_time": "2025-02-16T08:23:35.213608",
     "status": "completed"
    },
    "tags": []
   },
   "outputs": [
    {
     "data": {
      "application/javascript": [
       "parent.postMessage({\"jupyterEvent\": \"custom.exercise_interaction\", \"data\": {\"outcomeType\": 1, \"valueTowardsCompletion\": 0.25, \"interactionType\": 1, \"questionType\": 2, \"questionId\": \"3_CreateModel\", \"learnToolsVersion\": \"0.3.4\", \"failureMessage\": \"\", \"exceptionClass\": \"\", \"trace\": \"\"}}, \"*\")"
      ],
      "text/plain": [
       "<IPython.core.display.Javascript object>"
      ]
     },
     "metadata": {},
     "output_type": "display_data"
    },
    {
     "data": {
      "text/markdown": [
       "<span style=\"color:#33cc33\">Correct</span>"
      ],
      "text/plain": [
       "Correct"
      ]
     },
     "metadata": {},
     "output_type": "display_data"
    }
   ],
   "source": [
    "from sklearn.tree import DecisionTreeRegressor\n",
    "#specify the model. \n",
    "#For model reproducibility, set a numeric value for random_state when specifying the model\n",
    "iowa_model = DecisionTreeRegressor(random_state=1)\n",
    "\n",
    "# Fit the model\n",
    "iowa_model.fit(X, y)\n",
    "\n",
    "# Check your answer\n",
    "step_3.check()"
   ]
  },
  {
   "cell_type": "code",
   "execution_count": 9,
   "id": "e93c915e",
   "metadata": {
    "collapsed": true,
    "execution": {
     "iopub.execute_input": "2025-02-16T08:23:35.254312Z",
     "iopub.status.busy": "2025-02-16T08:23:35.253893Z",
     "iopub.status.idle": "2025-02-16T08:23:35.258284Z",
     "shell.execute_reply": "2025-02-16T08:23:35.257064Z"
    },
    "jupyter": {
     "outputs_hidden": true
    },
    "papermill": {
     "duration": 0.012102,
     "end_time": "2025-02-16T08:23:35.260005",
     "exception": false,
     "start_time": "2025-02-16T08:23:35.247903",
     "status": "completed"
    },
    "tags": []
   },
   "outputs": [],
   "source": [
    "# step_3.hint()\n",
    "# step_3.solution()"
   ]
  },
  {
   "cell_type": "markdown",
   "id": "ad4773e4",
   "metadata": {
    "papermill": {
     "duration": 0.004932,
     "end_time": "2025-02-16T08:23:35.270247",
     "exception": false,
     "start_time": "2025-02-16T08:23:35.265315",
     "status": "completed"
    },
    "tags": []
   },
   "source": [
    "## Step 4: Make Predictions\n",
    "Make predictions with the model's `predict` command using `X` as the data. Save the results to a variable called `predictions`."
   ]
  },
  {
   "cell_type": "code",
   "execution_count": 10,
   "id": "d1d0d8b0",
   "metadata": {
    "execution": {
     "iopub.execute_input": "2025-02-16T08:23:35.281916Z",
     "iopub.status.busy": "2025-02-16T08:23:35.281461Z",
     "iopub.status.idle": "2025-02-16T08:23:35.294233Z",
     "shell.execute_reply": "2025-02-16T08:23:35.293097Z"
    },
    "papermill": {
     "duration": 0.020784,
     "end_time": "2025-02-16T08:23:35.296142",
     "exception": false,
     "start_time": "2025-02-16T08:23:35.275358",
     "status": "completed"
    },
    "tags": []
   },
   "outputs": [
    {
     "name": "stdout",
     "output_type": "stream",
     "text": [
      "[208500. 181500. 223500. ... 266500. 142125. 147500.]\n"
     ]
    },
    {
     "data": {
      "application/javascript": [
       "parent.postMessage({\"jupyterEvent\": \"custom.exercise_interaction\", \"data\": {\"outcomeType\": 1, \"valueTowardsCompletion\": 0.25, \"interactionType\": 1, \"questionType\": 2, \"questionId\": \"4_MakePredictions\", \"learnToolsVersion\": \"0.3.4\", \"failureMessage\": \"\", \"exceptionClass\": \"\", \"trace\": \"\"}}, \"*\")"
      ],
      "text/plain": [
       "<IPython.core.display.Javascript object>"
      ]
     },
     "metadata": {},
     "output_type": "display_data"
    },
    {
     "data": {
      "text/markdown": [
       "<span style=\"color:#33cc33\">Correct</span>"
      ],
      "text/plain": [
       "Correct"
      ]
     },
     "metadata": {},
     "output_type": "display_data"
    }
   ],
   "source": [
    "predictions = iowa_model.predict(X)\n",
    "print(predictions)\n",
    "\n",
    "# Check your answer\n",
    "step_4.check()"
   ]
  },
  {
   "cell_type": "code",
   "execution_count": 11,
   "id": "0b22438a",
   "metadata": {
    "collapsed": true,
    "execution": {
     "iopub.execute_input": "2025-02-16T08:23:35.308905Z",
     "iopub.status.busy": "2025-02-16T08:23:35.308475Z",
     "iopub.status.idle": "2025-02-16T08:23:35.312439Z",
     "shell.execute_reply": "2025-02-16T08:23:35.311446Z"
    },
    "jupyter": {
     "outputs_hidden": true
    },
    "papermill": {
     "duration": 0.012296,
     "end_time": "2025-02-16T08:23:35.314115",
     "exception": false,
     "start_time": "2025-02-16T08:23:35.301819",
     "status": "completed"
    },
    "tags": []
   },
   "outputs": [],
   "source": [
    "# step_4.hint()\n",
    "# step_4.solution()"
   ]
  },
  {
   "cell_type": "markdown",
   "id": "9c6fec8d",
   "metadata": {
    "papermill": {
     "duration": 0.005476,
     "end_time": "2025-02-16T08:23:35.325312",
     "exception": false,
     "start_time": "2025-02-16T08:23:35.319836",
     "status": "completed"
    },
    "tags": []
   },
   "source": [
    "## Think About Your Results\n",
    "\n",
    "Use the `head` method to compare the top few predictions to the actual home values (in `y`) for those same homes. Anything surprising?\n"
   ]
  },
  {
   "cell_type": "code",
   "execution_count": 12,
   "id": "5592cce6",
   "metadata": {
    "execution": {
     "iopub.execute_input": "2025-02-16T08:23:35.337639Z",
     "iopub.status.busy": "2025-02-16T08:23:35.337290Z",
     "iopub.status.idle": "2025-02-16T08:23:35.344052Z",
     "shell.execute_reply": "2025-02-16T08:23:35.342995Z"
    },
    "papermill": {
     "duration": 0.014819,
     "end_time": "2025-02-16T08:23:35.345669",
     "exception": false,
     "start_time": "2025-02-16T08:23:35.330850",
     "status": "completed"
    },
    "tags": []
   },
   "outputs": [
    {
     "name": "stdout",
     "output_type": "stream",
     "text": [
      "Predicted Prices:\n",
      " [208500. 181500. 223500. 140000. 250000.]\n",
      "Actual Prices:\n",
      " 0    208500\n",
      "1    181500\n",
      "2    223500\n",
      "3    140000\n",
      "4    250000\n",
      "Name: SalePrice, dtype: int64\n"
     ]
    }
   ],
   "source": [
    "# You can write code in this cell\n",
    "print(\"Predicted Prices:\\n\", predictions[:5]) \n",
    "print(\"Actual Prices:\\n\", y.head())"
   ]
  },
  {
   "cell_type": "markdown",
   "id": "3377eaba",
   "metadata": {
    "papermill": {
     "duration": 0.006396,
     "end_time": "2025-02-16T08:23:35.357724",
     "exception": false,
     "start_time": "2025-02-16T08:23:35.351328",
     "status": "completed"
    },
    "tags": []
   },
   "source": [
    "It's natural to ask how accurate the model's predictions will be and how you can improve that. That will be you're next step.\n",
    "\n",
    "# Keep Going\n",
    "\n",
    "You are ready for **[Model Validation](https://www.kaggle.com/dansbecker/model-validation).**\n"
   ]
  },
  {
   "cell_type": "markdown",
   "id": "143f9754",
   "metadata": {
    "papermill": {
     "duration": 0.005023,
     "end_time": "2025-02-16T08:23:35.368509",
     "exception": false,
     "start_time": "2025-02-16T08:23:35.363486",
     "status": "completed"
    },
    "tags": []
   },
   "source": [
    "---\n",
    "\n",
    "\n",
    "\n",
    "\n",
    "*Have questions or comments? Visit the [course discussion forum](https://www.kaggle.com/learn/intro-to-machine-learning/discussion) to chat with other learners.*"
   ]
  }
 ],
 "metadata": {
  "kaggle": {
   "accelerator": "none",
   "dataSources": [
    {
     "databundleVersionId": 111096,
     "sourceId": 10211,
     "sourceType": "competition"
    },
    {
     "datasetId": 11167,
     "sourceId": 15520,
     "sourceType": "datasetVersion"
    },
    {
     "datasetId": 2709,
     "sourceId": 38454,
     "sourceType": "datasetVersion"
    }
   ],
   "isGpuEnabled": false,
   "isInternetEnabled": false,
   "language": "python",
   "sourceType": "notebook"
  },
  "kernelspec": {
   "display_name": "Python 3",
   "language": "python",
   "name": "python3"
  },
  "language_info": {
   "codemirror_mode": {
    "name": "ipython",
    "version": 3
   },
   "file_extension": ".py",
   "mimetype": "text/x-python",
   "name": "python",
   "nbconvert_exporter": "python",
   "pygments_lexer": "ipython3",
   "version": "3.10.12"
  },
  "papermill": {
   "default_parameters": {},
   "duration": 6.552278,
   "end_time": "2025-02-16T08:23:36.095141",
   "environment_variables": {},
   "exception": null,
   "input_path": "__notebook__.ipynb",
   "output_path": "__notebook__.ipynb",
   "parameters": {},
   "start_time": "2025-02-16T08:23:29.542863",
   "version": "2.6.0"
  }
 },
 "nbformat": 4,
 "nbformat_minor": 5
}
