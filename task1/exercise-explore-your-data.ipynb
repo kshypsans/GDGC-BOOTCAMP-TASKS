{
 "cells": [
  {
   "cell_type": "markdown",
   "id": "0307690a",
   "metadata": {
    "papermill": {
     "duration": 0.003376,
     "end_time": "2025-02-16T07:44:43.175929",
     "exception": false,
     "start_time": "2025-02-16T07:44:43.172553",
     "status": "completed"
    },
    "tags": []
   },
   "source": [
    "**[Machine Learning Course Home Page](https://www.kaggle.com/learn/machine-learning)**\n",
    "\n",
    "---\n"
   ]
  },
  {
   "cell_type": "markdown",
   "id": "9f5369da",
   "metadata": {
    "papermill": {
     "duration": 0.002538,
     "end_time": "2025-02-16T07:44:43.181918",
     "exception": false,
     "start_time": "2025-02-16T07:44:43.179380",
     "status": "completed"
    },
    "tags": []
   },
   "source": [
    "This exercise will test your ability to read a data file and understand statistics about the data.\n",
    "\n",
    "In later exercises, you will apply techniques to filter the data, build a machine learning model, and iteratively improve your model.\n",
    "\n",
    "The course examples use data from Melbourne. To ensure you can apply these techniques on your own, you will have to apply them to a new dataset (with house prices from Iowa).\n",
    "\n",
    "The exercises use a \"notebook\" coding environment.  In case you are unfamiliar with notebooks, we have a [90-second intro video](https://www.youtube.com/watch?v=4C2qMnaIKL4).\n",
    "\n",
    "# Exercises\n",
    "\n",
    "Run the following cell to set up code-checking, which will verify your work as you go."
   ]
  },
  {
   "cell_type": "code",
   "execution_count": 1,
   "id": "bf340a98",
   "metadata": {
    "execution": {
     "iopub.execute_input": "2025-02-16T07:44:43.189197Z",
     "iopub.status.busy": "2025-02-16T07:44:43.188660Z",
     "iopub.status.idle": "2025-02-16T07:44:44.158941Z",
     "shell.execute_reply": "2025-02-16T07:44:44.157691Z"
    },
    "papermill": {
     "duration": 0.976026,
     "end_time": "2025-02-16T07:44:44.160760",
     "exception": false,
     "start_time": "2025-02-16T07:44:43.184734",
     "status": "completed"
    },
    "tags": []
   },
   "outputs": [
    {
     "name": "stdout",
     "output_type": "stream",
     "text": [
      "Setup Complete\n"
     ]
    }
   ],
   "source": [
    "# Set up code checking\n",
    "from learntools.core import binder\n",
    "binder.bind(globals())\n",
    "from learntools.machine_learning.ex2 import *\n",
    "print(\"Setup Complete\")"
   ]
  },
  {
   "cell_type": "markdown",
   "id": "a8df6dd1",
   "metadata": {
    "papermill": {
     "duration": 0.002586,
     "end_time": "2025-02-16T07:44:44.166636",
     "exception": false,
     "start_time": "2025-02-16T07:44:44.164050",
     "status": "completed"
    },
    "tags": []
   },
   "source": [
    "## Step 1: Loading Data\n",
    "Read the Iowa data file into a Pandas DataFrame called `home_data`."
   ]
  },
  {
   "cell_type": "code",
   "execution_count": 2,
   "id": "5af11eeb",
   "metadata": {
    "execution": {
     "iopub.execute_input": "2025-02-16T07:44:44.173924Z",
     "iopub.status.busy": "2025-02-16T07:44:44.173410Z",
     "iopub.status.idle": "2025-02-16T07:44:44.226879Z",
     "shell.execute_reply": "2025-02-16T07:44:44.225612Z"
    },
    "papermill": {
     "duration": 0.059047,
     "end_time": "2025-02-16T07:44:44.228712",
     "exception": false,
     "start_time": "2025-02-16T07:44:44.169665",
     "status": "completed"
    },
    "tags": []
   },
   "outputs": [
    {
     "data": {
      "application/javascript": [
       "parent.postMessage({\"jupyterEvent\": \"custom.exercise_interaction\", \"data\": {\"outcomeType\": 1, \"valueTowardsCompletion\": 0.5, \"interactionType\": 1, \"questionType\": 1, \"questionId\": \"1_LoadHomeData\", \"learnToolsVersion\": \"0.3.4\", \"failureMessage\": \"\", \"exceptionClass\": \"\", \"trace\": \"\"}}, \"*\")"
      ],
      "text/plain": [
       "<IPython.core.display.Javascript object>"
      ]
     },
     "metadata": {},
     "output_type": "display_data"
    },
    {
     "data": {
      "text/markdown": [
       "<span style=\"color:#33cc33\">Correct</span>"
      ],
      "text/plain": [
       "Correct"
      ]
     },
     "metadata": {},
     "output_type": "display_data"
    }
   ],
   "source": [
    "import pandas as pd\n",
    "\n",
    "# Path of the file to read\n",
    "iowa_file_path = '../input/home-data-for-ml-course/train.csv'\n",
    "\n",
    "# Fill in the line below to read the file into a variable home_data\n",
    "home_data = pd.read_csv(iowa_file_path)\n",
    "\n",
    "# Call line below with no argument to check that you've loaded the data correctly\n",
    "step_1.check()"
   ]
  },
  {
   "cell_type": "code",
   "execution_count": 3,
   "id": "b8d22e88",
   "metadata": {
    "execution": {
     "iopub.execute_input": "2025-02-16T07:44:44.236792Z",
     "iopub.status.busy": "2025-02-16T07:44:44.236403Z",
     "iopub.status.idle": "2025-02-16T07:44:44.240401Z",
     "shell.execute_reply": "2025-02-16T07:44:44.239469Z"
    },
    "papermill": {
     "duration": 0.009862,
     "end_time": "2025-02-16T07:44:44.241937",
     "exception": false,
     "start_time": "2025-02-16T07:44:44.232075",
     "status": "completed"
    },
    "tags": []
   },
   "outputs": [],
   "source": [
    "# Lines below will give you a hint or solution code\n",
    "#step_1.hint()\n",
    "#step_1.solution()"
   ]
  },
  {
   "cell_type": "markdown",
   "id": "9b56ec0a",
   "metadata": {
    "papermill": {
     "duration": 0.002844,
     "end_time": "2025-02-16T07:44:44.248099",
     "exception": false,
     "start_time": "2025-02-16T07:44:44.245255",
     "status": "completed"
    },
    "tags": []
   },
   "source": [
    "## Step 2: Review The Data\n",
    "Use the command you learned to view summary statistics of the data. Then fill in variables to answer the following questions"
   ]
  },
  {
   "cell_type": "code",
   "execution_count": 4,
   "id": "8e3c42ab",
   "metadata": {
    "execution": {
     "iopub.execute_input": "2025-02-16T07:44:44.255408Z",
     "iopub.status.busy": "2025-02-16T07:44:44.255013Z",
     "iopub.status.idle": "2025-02-16T07:44:44.328252Z",
     "shell.execute_reply": "2025-02-16T07:44:44.327046Z"
    },
    "papermill": {
     "duration": 0.078921,
     "end_time": "2025-02-16T07:44:44.330040",
     "exception": false,
     "start_time": "2025-02-16T07:44:44.251119",
     "status": "completed"
    },
    "tags": []
   },
   "outputs": [
    {
     "name": "stdout",
     "output_type": "stream",
     "text": [
      "       MSZoning Street Alley LotShape LandContour Utilities LotConfig  \\\n",
      "count      1460   1460    91     1460        1460      1460      1460   \n",
      "unique        5      2     2        4           4         2         5   \n",
      "top          RL   Pave  Grvl      Reg         Lvl    AllPub    Inside   \n",
      "freq       1151   1454    50      925        1311      1459      1052   \n",
      "\n",
      "       LandSlope Neighborhood Condition1  ... GarageType GarageFinish  \\\n",
      "count       1460         1460       1460  ...       1379         1379   \n",
      "unique         3           25          9  ...          6            3   \n",
      "top          Gtl        NAmes       Norm  ...     Attchd          Unf   \n",
      "freq        1382          225       1260  ...        870          605   \n",
      "\n",
      "       GarageQual GarageCond PavedDrive PoolQC  Fence MiscFeature SaleType  \\\n",
      "count        1379       1379       1460      7    281          54     1460   \n",
      "unique          5          5          3      3      4           4        9   \n",
      "top            TA         TA          Y     Gd  MnPrv        Shed       WD   \n",
      "freq         1311       1326       1340      3    157          49     1267   \n",
      "\n",
      "       SaleCondition  \n",
      "count           1460  \n",
      "unique             6  \n",
      "top           Normal  \n",
      "freq            1198  \n",
      "\n",
      "[4 rows x 43 columns]\n"
     ]
    }
   ],
   "source": [
    "# Print summary statistics in next line\n",
    "print(home_data.describe(include='object'))\n"
   ]
  },
  {
   "cell_type": "code",
   "execution_count": 5,
   "id": "d1f84d8e",
   "metadata": {
    "execution": {
     "iopub.execute_input": "2025-02-16T07:44:44.338024Z",
     "iopub.status.busy": "2025-02-16T07:44:44.337681Z",
     "iopub.status.idle": "2025-02-16T07:44:44.345963Z",
     "shell.execute_reply": "2025-02-16T07:44:44.345102Z"
    },
    "papermill": {
     "duration": 0.014109,
     "end_time": "2025-02-16T07:44:44.347668",
     "exception": false,
     "start_time": "2025-02-16T07:44:44.333559",
     "status": "completed"
    },
    "tags": []
   },
   "outputs": [
    {
     "data": {
      "application/javascript": [
       "parent.postMessage({\"jupyterEvent\": \"custom.exercise_interaction\", \"data\": {\"outcomeType\": 1, \"valueTowardsCompletion\": 0.5, \"interactionType\": 1, \"questionType\": 1, \"questionId\": \"2_HomeDescription\", \"learnToolsVersion\": \"0.3.4\", \"failureMessage\": \"\", \"exceptionClass\": \"\", \"trace\": \"\"}}, \"*\")"
      ],
      "text/plain": [
       "<IPython.core.display.Javascript object>"
      ]
     },
     "metadata": {},
     "output_type": "display_data"
    },
    {
     "data": {
      "text/markdown": [
       "<span style=\"color:#33cc33\">Correct</span>"
      ],
      "text/plain": [
       "Correct"
      ]
     },
     "metadata": {},
     "output_type": "display_data"
    }
   ],
   "source": [
    "# What is the average lot size (rounded to nearest integer)?\n",
    "avg_lot_size = round(home_data['LotArea'].mean())\n",
    "\n",
    "# As of today, how old is the newest home (current year - the date in which it was built)\n",
    "newest_home_age = 2025 - home_data['YearBuilt'].max()\n",
    "\n",
    "# Checks your answers\n",
    "step_2.check()"
   ]
  },
  {
   "cell_type": "code",
   "execution_count": 6,
   "id": "f89d9683",
   "metadata": {
    "execution": {
     "iopub.execute_input": "2025-02-16T07:44:44.355964Z",
     "iopub.status.busy": "2025-02-16T07:44:44.355647Z",
     "iopub.status.idle": "2025-02-16T07:44:44.359341Z",
     "shell.execute_reply": "2025-02-16T07:44:44.358429Z"
    },
    "papermill": {
     "duration": 0.009476,
     "end_time": "2025-02-16T07:44:44.360839",
     "exception": false,
     "start_time": "2025-02-16T07:44:44.351363",
     "status": "completed"
    },
    "tags": []
   },
   "outputs": [],
   "source": [
    "#step_2.hint()\n",
    "#step_2.solution()"
   ]
  },
  {
   "cell_type": "markdown",
   "id": "e38557c0",
   "metadata": {
    "papermill": {
     "duration": 0.003335,
     "end_time": "2025-02-16T07:44:44.367804",
     "exception": false,
     "start_time": "2025-02-16T07:44:44.364469",
     "status": "completed"
    },
    "tags": []
   },
   "source": [
    "## Think About Your Data\n",
    "\n",
    "The newest house in your data isn't that new.  A few potential explanations for this:\n",
    "1. They haven't built new houses where this data was collected.\n",
    "1. The data was collected a long time ago. Houses built after the data publication wouldn't show up.\n",
    "\n",
    "If the reason is explanation #1 above, does that affect your trust in the model you build with this data? What about if it is reason #2?\n",
    "\n",
    "How could you dig into the data to see which explanation is more plausible?\n",
    "\n",
    "Check out this **[discussion thread](https://www.kaggle.com/learn-forum/60581)** to see what others think or to add your ideas.\n",
    "\n",
    "# Keep Going\n",
    "\n",
    "You are ready for **[Your First Machine Learning Model](https://www.kaggle.com/dansbecker/your-first-machine-learning-model).**\n"
   ]
  },
  {
   "cell_type": "markdown",
   "id": "abb13bb6",
   "metadata": {
    "papermill": {
     "duration": 0.003112,
     "end_time": "2025-02-16T07:44:44.374475",
     "exception": false,
     "start_time": "2025-02-16T07:44:44.371363",
     "status": "completed"
    },
    "tags": []
   },
   "source": [
    "---\n",
    "**[Machine Learning Course Home Page](https://www.kaggle.com/learn/machine-learning)**\n",
    "\n"
   ]
  }
 ],
 "metadata": {
  "kaggle": {
   "accelerator": "none",
   "dataSources": [
    {
     "datasetId": 2709,
     "sourceId": 38454,
     "sourceType": "datasetVersion"
    },
    {
     "datasetId": 108980,
     "sourceId": 260251,
     "sourceType": "datasetVersion"
    }
   ],
   "isGpuEnabled": false,
   "isInternetEnabled": false,
   "language": "python",
   "sourceType": "notebook"
  },
  "kernelspec": {
   "display_name": "Python 3",
   "language": "python",
   "name": "python3"
  },
  "language_info": {
   "codemirror_mode": {
    "name": "ipython",
    "version": 3
   },
   "file_extension": ".py",
   "mimetype": "text/x-python",
   "name": "python",
   "nbconvert_exporter": "python",
   "pygments_lexer": "ipython3",
   "version": "3.10.12"
  },
  "papermill": {
   "default_parameters": {},
   "duration": 4.658284,
   "end_time": "2025-02-16T07:44:44.998605",
   "environment_variables": {},
   "exception": null,
   "input_path": "__notebook__.ipynb",
   "output_path": "__notebook__.ipynb",
   "parameters": {},
   "start_time": "2025-02-16T07:44:40.340321",
   "version": "2.6.0"
  }
 },
 "nbformat": 4,
 "nbformat_minor": 5
}
